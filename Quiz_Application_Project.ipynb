{
  "nbformat": 4,
  "nbformat_minor": 0,
  "metadata": {
    "colab": {
      "provenance": []
    },
    "kernelspec": {
      "name": "python3",
      "display_name": "Python 3"
    },
    "language_info": {
      "name": "python"
    }
  },
  "cells": [
    {
      "cell_type": "code",
      "source": [
        "print(\"Wellcome to quiz game !!\")\n",
        "print('NOTE: if your spelling is incorrect then it is considered as wrong answer')\n",
        "score = 0\n",
        "question_no = 0\n",
        "playing = input('Do you want to play ? ').lower()\n",
        "if playing == 'yes':\n",
        "    question_no += 1\n",
        "    ques = input(f'\\n{question_no}. what does CPU stand for? ').lower()\n",
        "    if ques == 'central processing unit':\n",
        "        score +=1\n",
        "        print('correct! you got 1 point')\n",
        "\n",
        "    else:\n",
        "        print('Incorrect!')\n",
        "        print(f'current answer is --> central processing unit')\n",
        "\n",
        "# ------1\n",
        "    question_no += 1\n",
        "    ques = input(f'\\n{question_no}. what does GPU stand for? ').lower()\n",
        "\n",
        "    if ques == 'graphics processing unit':\n",
        "        score +=1\n",
        "        print('correct! you got 1 point')\n",
        "\n",
        "    else:\n",
        "        print('Incorrect!')\n",
        "        print(f'current answer is --> graphics processing unit')\n",
        "\n",
        "# -----2\n",
        "    question_no += 1\n",
        "    ques = input(f'\\n{question_no}. what does RAM stand for? ').lower()\n",
        "\n",
        "    if ques == 'random access memory':\n",
        "        score +=1\n",
        "        print('correct! you got 1 point')\n",
        "\n",
        "    else:\n",
        "        print('Incorrect!')\n",
        "        print(f'current answer is --> random access memory')\n",
        "\n",
        "# -----3\n",
        "    question_no += 1\n",
        "    ques = input(f'\\n{question_no}. what does PSU stand for? ').lower()\n",
        "\n",
        "    if ques == 'power supply unit':\n",
        "        score +=1\n",
        "        print('correct! you got 1 point')\n",
        "\n",
        "    else:\n",
        "        print('Incorrect!')\n",
        "        print(f'current answer is --> power supply unit')\n",
        "\n",
        "\n",
        "# -----4\n",
        "    question_no += 1\n",
        "    ques = input(f'\\n{question_no}. what does ROM stand for? ').lower()\n",
        "\n",
        "    if ques == 'read only memory':\n",
        "        score +=1\n",
        "        print('correct! you got 1 point')\n",
        "\n",
        "    else:\n",
        "        print('Incorrect!')\n",
        "        print(f'current answer is --> read only memory')\n",
        "\n",
        "\n",
        "# ------5\n",
        "\n",
        "else:\n",
        "    print('thankyou you are out of a game.')\n",
        "    quit()\n",
        "\n",
        "print(f'\\nnumber of question is {question_no}')\n",
        "print(f'your score is {score}')\n",
        "try:\n",
        "    percentage = (score *100)/question_no\n",
        "except ZeroDivisionError:\n",
        "    print('0% quetions are correct')\n",
        "\n",
        "print(f'{percentage}% questions are correct.')"
      ],
      "metadata": {
        "colab": {
          "base_uri": "https://localhost:8080/",
          "height": 442
        },
        "id": "0WSBpsprEK-V",
        "outputId": "5c7247ca-3476-4c7c-b5b6-e0e36dacc7c6"
      },
      "execution_count": 13,
      "outputs": [
        {
          "output_type": "stream",
          "name": "stdout",
          "text": [
            "Wellcome to quiz game !!\n",
            "NOTE: if your spelling is incorrect then it is considered as wrong answer\n"
          ]
        },
        {
          "output_type": "error",
          "ename": "KeyboardInterrupt",
          "evalue": "ignored",
          "traceback": [
            "\u001b[0;31m---------------------------------------------------------------------------\u001b[0m",
            "\u001b[0;31mKeyboardInterrupt\u001b[0m                         Traceback (most recent call last)",
            "\u001b[0;32m<ipython-input-13-b4fd3de0d6e2>\u001b[0m in \u001b[0;36m<cell line: 5>\u001b[0;34m()\u001b[0m\n\u001b[1;32m      3\u001b[0m \u001b[0mscore\u001b[0m \u001b[0;34m=\u001b[0m \u001b[0;36m0\u001b[0m\u001b[0;34m\u001b[0m\u001b[0;34m\u001b[0m\u001b[0m\n\u001b[1;32m      4\u001b[0m \u001b[0mquestion_no\u001b[0m \u001b[0;34m=\u001b[0m \u001b[0;36m0\u001b[0m\u001b[0;34m\u001b[0m\u001b[0;34m\u001b[0m\u001b[0m\n\u001b[0;32m----> 5\u001b[0;31m \u001b[0mplaying\u001b[0m \u001b[0;34m=\u001b[0m \u001b[0minput\u001b[0m\u001b[0;34m(\u001b[0m\u001b[0;34m'Do you want to play ? '\u001b[0m\u001b[0;34m)\u001b[0m\u001b[0;34m.\u001b[0m\u001b[0mlower\u001b[0m\u001b[0;34m(\u001b[0m\u001b[0;34m)\u001b[0m\u001b[0;34m\u001b[0m\u001b[0;34m\u001b[0m\u001b[0m\n\u001b[0m\u001b[1;32m      6\u001b[0m \u001b[0;32mif\u001b[0m \u001b[0mplaying\u001b[0m \u001b[0;34m==\u001b[0m \u001b[0;34m'yes'\u001b[0m\u001b[0;34m:\u001b[0m\u001b[0;34m\u001b[0m\u001b[0;34m\u001b[0m\u001b[0m\n\u001b[1;32m      7\u001b[0m     \u001b[0mquestion_no\u001b[0m \u001b[0;34m+=\u001b[0m \u001b[0;36m1\u001b[0m\u001b[0;34m\u001b[0m\u001b[0;34m\u001b[0m\u001b[0m\n",
            "\u001b[0;32m/usr/local/lib/python3.10/dist-packages/ipykernel/kernelbase.py\u001b[0m in \u001b[0;36mraw_input\u001b[0;34m(self, prompt)\u001b[0m\n\u001b[1;32m    849\u001b[0m                 \u001b[0;34m\"raw_input was called, but this frontend does not support input requests.\"\u001b[0m\u001b[0;34m\u001b[0m\u001b[0;34m\u001b[0m\u001b[0m\n\u001b[1;32m    850\u001b[0m             )\n\u001b[0;32m--> 851\u001b[0;31m         return self._input_request(str(prompt),\n\u001b[0m\u001b[1;32m    852\u001b[0m             \u001b[0mself\u001b[0m\u001b[0;34m.\u001b[0m\u001b[0m_parent_ident\u001b[0m\u001b[0;34m,\u001b[0m\u001b[0;34m\u001b[0m\u001b[0;34m\u001b[0m\u001b[0m\n\u001b[1;32m    853\u001b[0m             \u001b[0mself\u001b[0m\u001b[0;34m.\u001b[0m\u001b[0m_parent_header\u001b[0m\u001b[0;34m,\u001b[0m\u001b[0;34m\u001b[0m\u001b[0;34m\u001b[0m\u001b[0m\n",
            "\u001b[0;32m/usr/local/lib/python3.10/dist-packages/ipykernel/kernelbase.py\u001b[0m in \u001b[0;36m_input_request\u001b[0;34m(self, prompt, ident, parent, password)\u001b[0m\n\u001b[1;32m    893\u001b[0m             \u001b[0;32mexcept\u001b[0m \u001b[0mKeyboardInterrupt\u001b[0m\u001b[0;34m:\u001b[0m\u001b[0;34m\u001b[0m\u001b[0;34m\u001b[0m\u001b[0m\n\u001b[1;32m    894\u001b[0m                 \u001b[0;31m# re-raise KeyboardInterrupt, to truncate traceback\u001b[0m\u001b[0;34m\u001b[0m\u001b[0;34m\u001b[0m\u001b[0m\n\u001b[0;32m--> 895\u001b[0;31m                 \u001b[0;32mraise\u001b[0m \u001b[0mKeyboardInterrupt\u001b[0m\u001b[0;34m(\u001b[0m\u001b[0;34m\"Interrupted by user\"\u001b[0m\u001b[0;34m)\u001b[0m \u001b[0;32mfrom\u001b[0m \u001b[0;32mNone\u001b[0m\u001b[0;34m\u001b[0m\u001b[0;34m\u001b[0m\u001b[0m\n\u001b[0m\u001b[1;32m    896\u001b[0m             \u001b[0;32mexcept\u001b[0m \u001b[0mException\u001b[0m \u001b[0;32mas\u001b[0m \u001b[0me\u001b[0m\u001b[0;34m:\u001b[0m\u001b[0;34m\u001b[0m\u001b[0;34m\u001b[0m\u001b[0m\n\u001b[1;32m    897\u001b[0m                 \u001b[0mself\u001b[0m\u001b[0;34m.\u001b[0m\u001b[0mlog\u001b[0m\u001b[0;34m.\u001b[0m\u001b[0mwarning\u001b[0m\u001b[0;34m(\u001b[0m\u001b[0;34m\"Invalid Message:\"\u001b[0m\u001b[0;34m,\u001b[0m \u001b[0mexc_info\u001b[0m\u001b[0;34m=\u001b[0m\u001b[0;32mTrue\u001b[0m\u001b[0;34m)\u001b[0m\u001b[0;34m\u001b[0m\u001b[0;34m\u001b[0m\u001b[0m\n",
            "\u001b[0;31mKeyboardInterrupt\u001b[0m: Interrupted by user"
          ]
        }
      ]
    }
  ]
}